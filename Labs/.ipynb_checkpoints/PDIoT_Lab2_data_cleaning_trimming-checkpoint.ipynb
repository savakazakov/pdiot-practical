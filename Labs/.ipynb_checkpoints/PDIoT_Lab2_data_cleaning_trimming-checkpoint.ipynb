{
 "cells": [
  {
   "cell_type": "markdown",
   "metadata": {
    "id": "OG7NHoNaHquN"
   },
   "source": [
    "# Imports"
   ]
  },
  {
   "cell_type": "code",
   "execution_count": null,
   "metadata": {
    "id": "fVIy3DtdHsSq"
   },
   "outputs": [],
   "source": [
    "import pandas as pd\n",
    "import matplotlib.pyplot as plt\n",
    "from typing import Tuple\n",
    "import matplotlib.ticker as ticker\n",
    "import time\n",
    "import datetime"
   ]
  },
  {
   "cell_type": "code",
   "execution_count": null,
   "metadata": {
    "colab": {
     "base_uri": "https://localhost:8080/"
    },
    "id": "d4-UVEQOn4Bn",
    "outputId": "84cc9583-f4e9-4316-e57c-0d2a54085d1f"
   },
   "outputs": [
    {
     "name": "stdout",
     "output_type": "stream",
     "text": [
      "Drive already mounted at /content/gdrive/; to attempt to forcibly remount, call drive.mount(\"/content/gdrive/\", force_remount=True).\n"
     ]
    }
   ],
   "source": [
    "# you do not need this if you are not working on google colab!\n",
    "from google.colab import drive\n",
    "drive.mount('/content/gdrive/')"
   ]
  },
  {
   "cell_type": "markdown",
   "metadata": {
    "id": "kgmz57eyHosL"
   },
   "source": [
    "# Functions"
   ]
  },
  {
   "cell_type": "code",
   "execution_count": null,
   "metadata": {
    "id": "joV11A0DHs3U"
   },
   "outputs": [],
   "source": [
    "def extract_header_info(filename: str, header_size: int = 5) -> Tuple[str, str, int, str, str]:\n",
    "    \"\"\"\n",
    "    :param filename: Path to recording file.\n",
    "    :param header_size: The size of the header, defaults to 5.\n",
    "    :returns: A 5-tuple containing the sensor type, activity type, activity code, subject id and any notes.\n",
    "    \"\"\"\n",
    "    sensor_type = \"\"\n",
    "    activity_type = \"\"\n",
    "    activity_code = -1\n",
    "    subject_id = \"\"\n",
    "    notes = \"\"\n",
    "\n",
    "    with open(filename) as f:\n",
    "        head = [next(f).rstrip().split('# ')[1] for x in range(header_size)]\n",
    "        for l in head:\n",
    "            print(l)\n",
    "\n",
    "            title, value = l.split(\":\")\n",
    "\n",
    "            if title == \"Sensor type\":\n",
    "                sensor_type = value.strip()\n",
    "            elif title == \"Activity type\":\n",
    "                activity_type = value.strip()\n",
    "            elif title == \"Activity code\":\n",
    "                activity_code = int(value.strip())\n",
    "            elif title == \"Subject id\":\n",
    "                subject_id = value.strip()\n",
    "            elif title == \"Notes\":\n",
    "                notes = value.strip()\n",
    "\n",
    "    return sensor_type, activity_type, activity_code, subject_id, notes"
   ]
  },
  {
   "cell_type": "code",
   "execution_count": null,
   "metadata": {
    "id": "z0vElYDAIRzb"
   },
   "outputs": [],
   "source": [
    "def get_frequency(dataframe: pd.DataFrame, ts_column: str = 'timestamp') -> float:\n",
    "    \"\"\"\n",
    "    :param dataframe: Dataframe containing sensor data. It needs to have a 'timestamp' column.\n",
    "    :param ts_column: The name of the column containing the timestamps. Default is 'timestamp'.\n",
    "    :returns: Frequency in Hz (samples per second)\n",
    "    \"\"\"\n",
    "\n",
    "    return len(dataframe) / ((dataframe[ts_column].iloc[-1] - dataframe[ts_column].iloc[0]) / 1000)"
   ]
  },
  {
   "cell_type": "code",
   "execution_count": null,
   "metadata": {
    "id": "pJHdZ1WAOoyz"
   },
   "outputs": [],
   "source": [
    "def get_recording_length(dataframe: pd.DataFrame):\n",
    "  \"\"\"\n",
    "  :param dataframe: Dataframe containing sensor data.\n",
    "  \"\"\"\n",
    "  return len(dataframe) / get_frequency(dataframe)"
   ]
  },
  {
   "cell_type": "code",
   "execution_count": null,
   "metadata": {
    "id": "EBP4MjMbOrKv"
   },
   "outputs": [],
   "source": [
    "def plot_data(dataframe: pd.DataFrame, plot_title):\n",
    "  # Calculate the number of data points in your dataset\n",
    "  num_data_points = len(dataframe)\n",
    "\n",
    "  # Calculate a suitable figure width based on the number of data points\n",
    "  # You can adjust the multiplier as needed to control the figure size\n",
    "  figure_width = num_data_points / 10  # Adjust the divisor to control the size\n",
    "\n",
    "\n",
    "  # Set a fixed aspect ratio for the figure (optional)\n",
    "  aspect_ratio = 0.3  # You can adjust this value as needed\n",
    "\n",
    "  # Calculate the figure height based on the aspect ratio and width\n",
    "  figure_height = figure_width * aspect_ratio\n",
    "\n",
    "  # Create the figure with the calculated size\n",
    "  fig, ax = plt.subplots(2, 1, figsize=(figure_width, figure_height))\n",
    "\n",
    "  plot_title = plot_title\n",
    "\n",
    "  line_width = 6\n",
    "\n",
    "  # Plot respeck with custom line width\n",
    "  ax[0].plot(dataframe['accel_x'], label=\"accel_x\", linewidth=line_width)\n",
    "  ax[0].plot(dataframe['accel_y'], label=\"accel_y\", linewidth=line_width)\n",
    "  ax[0].plot(dataframe['accel_z'], label=\"accel_z\", linewidth=line_width)\n",
    "  ax[0].legend()\n",
    "\n",
    "  # Plot gyroscope data\n",
    "  ax[1].plot(dataframe['gyro_x'], label=\"gyro_x\", linewidth=line_width)\n",
    "  ax[1].plot(dataframe['gyro_y'], label=\"gyro_y\", linewidth=line_width)\n",
    "  ax[1].plot(dataframe['gyro_z'], label=\"gyro_z\", linewidth=line_width)\n",
    "  ax[1].legend()\n",
    "\n",
    "  num_xticks = len(dataframe)//10\n",
    "  ax[0].xaxis.set_major_locator(ticker.MaxNLocator(num_xticks))\n",
    "  ax[1].xaxis.set_major_locator(ticker.MaxNLocator(num_xticks))\n",
    "\n",
    "  fnt_size = 60\n",
    "  fnt_size2 = 40\n",
    "\n",
    "  ax[1].set_xlabel(\"Data point no\", fontsize=fnt_size)  # Adjust fontsize for the x-axis label\n",
    "  ax[0].set_ylabel(\"Acceleration\", fontsize=fnt_size)  # Adjust fontsize for the y-axis label\n",
    "  ax[1].set_ylabel(\"Gyroscope\", fontsize=fnt_size)\n",
    "\n",
    "  # Adjust fontsize of individual ticks on the x-axis and y-axis for both subplots\n",
    "  ax[0].tick_params(axis='both', labelsize=fnt_size2)\n",
    "  ax[1].tick_params(axis='both', labelsize=fnt_size2)\n",
    "\n",
    "  # Rotate x-axis tick labels by 45 degrees for both subplots\n",
    "  ax[0].tick_params(axis='x', labelrotation=45)\n",
    "  ax[1].tick_params(axis='x', labelrotation=45)\n",
    "\n",
    "  ax[0].set_title(plot_title, size=fnt_size)\n",
    "\n",
    "  # Add vertical grid lines (gridlines along the x-axis)\n",
    "  ax[0].grid(axis='x', linestyle='--', linewidth=line_width)\n",
    "  ax[1].grid(axis='x', linestyle='--', linewidth=line_width)\n",
    "\n",
    "  plt.tight_layout()\n",
    "  plt.show()"
   ]
  },
  {
   "cell_type": "code",
   "execution_count": null,
   "metadata": {
    "id": "KO2e5HLPOt9J"
   },
   "outputs": [],
   "source": [
    "def generate_new_timestamps(starting_timestamp, number_of_timestamps):\n",
    "  # Set the initial timestamp in milliseconds\n",
    "  initial_timestamp = starting_timestamp\n",
    "\n",
    "  # Calculate the time interval in seconds (1 / 25 Hz)\n",
    "  time_interval = 1.0 / 25\n",
    "\n",
    "  # Specify the number of timestamps you want to generate\n",
    "  num_timestamps = number_of_timestamps\n",
    "\n",
    "  for counter in range(num_timestamps):\n",
    "    # Calculate the next timestamp by adding the counter multiplied by the time interval\n",
    "    next_timestamp = initial_timestamp + (counter * time_interval * 1000)"
   ]
  },
  {
   "cell_type": "markdown",
   "metadata": {
    "id": "b16J0qVInFuW"
   },
   "source": [
    "# Filtering out gaps of inactivity in data"
   ]
  },
  {
   "cell_type": "code",
   "execution_count": null,
   "metadata": {
    "id": "K0MrSHissQIQ"
   },
   "outputs": [],
   "source": [
    "filename_respeck = \"/content/gdrive/Shareddrives/Ink/PDIoT/Respeck_s2255740_Sitting_06-09-2023_21-26-26.csv\"\n",
    "df_respeck = pd.read_csv(filename_respeck, header=5)"
   ]
  },
  {
   "cell_type": "markdown",
   "metadata": {
    "id": "qbA-mfaXsWlB"
   },
   "source": [
    "## Plotting raw and unprocessed data\n",
    "\n",
    "**Note: This may take a while!**"
   ]
  },
  {
   "cell_type": "code",
   "execution_count": null,
   "metadata": {
    "colab": {
     "base_uri": "https://localhost:8080/",
     "height": 700
    },
    "id": "1jes7ZCIsS1P",
    "outputId": "27eba374-9060-4683-d44e-b0c27e307809"
   },
   "outputs": [
    {
     "output_type": "stream",
     "text": [
      "\u001b[1;30;43mThis cell output is too large and can only be displayed while logged in.\u001b[0m\n"
     ]
    }
   ],
   "source": [
    "plot_data(df_respeck, \"Respeck sitting and hyperventilating - accelerometer and gyroscope data\")"
   ]
  },
  {
   "cell_type": "markdown",
   "metadata": {
    "id": "bkBKalaBsbzI"
   },
   "source": [
    "## Deleting gaps"
   ]
  },
  {
   "cell_type": "code",
   "execution_count": null,
   "metadata": {
    "colab": {
     "base_uri": "https://localhost:8080/"
    },
    "id": "K1inBUWMo2tu",
    "outputId": "0357c8c2-8211-4119-f38f-072ee2e26f5d"
   },
   "outputs": [
    {
     "name": "stdout",
     "output_type": "stream",
     "text": [
      "How many data ranges would you like to trim? 5\n",
      "\n",
      "\n",
      "1 Specify the range of the indexes that you would like to delete ----------------\n",
      "Starting at index: 0\n",
      "Ending at index: 15\n",
      "\n",
      "\n",
      "2 Specify the range of the indexes that you would like to delete ----------------\n",
      "Starting at index: 410\n",
      "Ending at index: 490\n",
      "\n",
      "\n",
      "3 Specify the range of the indexes that you would like to delete ----------------\n",
      "Starting at index: 830\n",
      "Ending at index: 945\n",
      "\n",
      "\n",
      "4 Specify the range of the indexes that you would like to delete ----------------\n",
      "Starting at index: 1250\n",
      "Ending at index: 1350\n",
      "\n",
      "\n",
      "5 Specify the range of the indexes that you would like to delete ----------------\n",
      "Starting at index: 1470\n",
      "Ending at index: 1500\n",
      "\n",
      "\n"
     ]
    }
   ],
   "source": [
    "df_respeck['ind'] = df_respeck.index\n",
    "\n",
    "to_trim = input(\"How many data ranges would you like to trim? \")\n",
    "\n",
    "print(\"\\n\")\n",
    "\n",
    "for i in range(int(to_trim)):\n",
    "\n",
    "  print(i+1, \"Specify the range of the indexes that you would like to delete ----------------\")\n",
    "\n",
    "  range_trim_start = int(input(\"Starting at index: \"))\n",
    "  range_trim_end = int(input(\"Ending at index: \"))\n",
    "\n",
    "  df_respeck = df_respeck[~((df_respeck['ind'] >= range_trim_start) & (df_respeck['ind'] <= range_trim_end))]\n",
    "  print(\"\\n\")"
   ]
  },
  {
   "cell_type": "markdown",
   "metadata": {
    "id": "LJ-770I5shtW"
   },
   "source": [
    "## Plot resulting graph"
   ]
  },
  {
   "cell_type": "code",
   "execution_count": null,
   "metadata": {
    "colab": {
     "base_uri": "https://localhost:8080/",
     "height": 717
    },
    "id": "L0pyRwlhsJgn",
    "outputId": "51203658-3337-47f0-c22c-e65ee1659892"
   },
   "outputs": [
    {
     "output_type": "stream",
     "text": [
      "\u001b[1;30;43mThis cell output is too large and can only be displayed while logged in.\u001b[0m\n"
     ]
    }
   ],
   "source": [
    "print(\"RESULTING GRAPH -------------------------------------------------------------------\")\n",
    "df_respeck.reset_index(inplace=True, drop=True)\n",
    "plot_data(df_respeck, \"Respeck sitting and hyperventilating - accelerometer and gyroscope data\")"
   ]
  },
  {
   "cell_type": "markdown",
   "metadata": {
    "id": "HHj6y32KvL8F"
   },
   "source": [
    "# Readjusting the timestamps to get 25Hz frequency data"
   ]
  },
  {
   "cell_type": "code",
   "execution_count": null,
   "metadata": {
    "colab": {
     "base_uri": "https://localhost:8080/",
     "height": 424
    },
    "id": "ZKygh5fVisYS",
    "outputId": "7c598a08-3f35-4e7e-fa8b-0f290fac7453"
   },
   "outputs": [
    {
     "data": {
      "text/html": [
       "\n",
       "  <div id=\"df-7eaaab37-5628-4375-8178-f6a2a29a3e72\" class=\"colab-df-container\">\n",
       "    <div>\n",
       "<style scoped>\n",
       "    .dataframe tbody tr th:only-of-type {\n",
       "        vertical-align: middle;\n",
       "    }\n",
       "\n",
       "    .dataframe tbody tr th {\n",
       "        vertical-align: top;\n",
       "    }\n",
       "\n",
       "    .dataframe thead th {\n",
       "        text-align: right;\n",
       "    }\n",
       "</style>\n",
       "<table border=\"1\" class=\"dataframe\">\n",
       "  <thead>\n",
       "    <tr style=\"text-align: right;\">\n",
       "      <th></th>\n",
       "      <th>timestamp</th>\n",
       "      <th>accel_x</th>\n",
       "      <th>accel_y</th>\n",
       "      <th>accel_z</th>\n",
       "      <th>gyro_x</th>\n",
       "      <th>gyro_y</th>\n",
       "      <th>gyro_z</th>\n",
       "      <th>ind</th>\n",
       "    </tr>\n",
       "  </thead>\n",
       "  <tbody>\n",
       "    <tr>\n",
       "      <th>0</th>\n",
       "      <td>1694028327585</td>\n",
       "      <td>-0.488525</td>\n",
       "      <td>-0.880676</td>\n",
       "      <td>0.276794</td>\n",
       "      <td>0.015625</td>\n",
       "      <td>-0.468750</td>\n",
       "      <td>0.000000</td>\n",
       "      <td>16</td>\n",
       "    </tr>\n",
       "    <tr>\n",
       "      <th>1</th>\n",
       "      <td>1694028327622</td>\n",
       "      <td>-0.489746</td>\n",
       "      <td>-0.872864</td>\n",
       "      <td>0.268494</td>\n",
       "      <td>-1.765625</td>\n",
       "      <td>0.656250</td>\n",
       "      <td>-0.484375</td>\n",
       "      <td>17</td>\n",
       "    </tr>\n",
       "    <tr>\n",
       "      <th>2</th>\n",
       "      <td>1694028327661</td>\n",
       "      <td>-0.491455</td>\n",
       "      <td>-0.867004</td>\n",
       "      <td>0.274109</td>\n",
       "      <td>-0.328125</td>\n",
       "      <td>0.312500</td>\n",
       "      <td>-0.453125</td>\n",
       "      <td>18</td>\n",
       "    </tr>\n",
       "    <tr>\n",
       "      <th>3</th>\n",
       "      <td>1694028327697</td>\n",
       "      <td>-0.482910</td>\n",
       "      <td>-0.870667</td>\n",
       "      <td>0.277527</td>\n",
       "      <td>-0.796875</td>\n",
       "      <td>2.281250</td>\n",
       "      <td>-0.281250</td>\n",
       "      <td>19</td>\n",
       "    </tr>\n",
       "    <tr>\n",
       "      <th>4</th>\n",
       "      <td>1694028327736</td>\n",
       "      <td>-0.498779</td>\n",
       "      <td>-0.882629</td>\n",
       "      <td>0.294617</td>\n",
       "      <td>-1.109375</td>\n",
       "      <td>3.437500</td>\n",
       "      <td>-0.078125</td>\n",
       "      <td>20</td>\n",
       "    </tr>\n",
       "    <tr>\n",
       "      <th>...</th>\n",
       "      <td>...</td>\n",
       "      <td>...</td>\n",
       "      <td>...</td>\n",
       "      <td>...</td>\n",
       "      <td>...</td>\n",
       "      <td>...</td>\n",
       "      <td>...</td>\n",
       "      <td>...</td>\n",
       "    </tr>\n",
       "    <tr>\n",
       "      <th>1151</th>\n",
       "      <td>1694028385147</td>\n",
       "      <td>-0.538574</td>\n",
       "      <td>-0.801331</td>\n",
       "      <td>0.325378</td>\n",
       "      <td>2.140625</td>\n",
       "      <td>9.359375</td>\n",
       "      <td>-0.078125</td>\n",
       "      <td>1465</td>\n",
       "    </tr>\n",
       "    <tr>\n",
       "      <th>1152</th>\n",
       "      <td>1694028385185</td>\n",
       "      <td>-0.579834</td>\n",
       "      <td>-0.848938</td>\n",
       "      <td>0.332458</td>\n",
       "      <td>0.312500</td>\n",
       "      <td>8.359375</td>\n",
       "      <td>0.125000</td>\n",
       "      <td>1466</td>\n",
       "    </tr>\n",
       "    <tr>\n",
       "      <th>1153</th>\n",
       "      <td>1694028385241</td>\n",
       "      <td>-0.490479</td>\n",
       "      <td>-0.829895</td>\n",
       "      <td>0.326843</td>\n",
       "      <td>-0.734375</td>\n",
       "      <td>3.171875</td>\n",
       "      <td>1.250000</td>\n",
       "      <td>1467</td>\n",
       "    </tr>\n",
       "    <tr>\n",
       "      <th>1154</th>\n",
       "      <td>1694028385278</td>\n",
       "      <td>-0.498291</td>\n",
       "      <td>-0.856506</td>\n",
       "      <td>0.294128</td>\n",
       "      <td>2.109375</td>\n",
       "      <td>0.109375</td>\n",
       "      <td>-0.890625</td>\n",
       "      <td>1468</td>\n",
       "    </tr>\n",
       "    <tr>\n",
       "      <th>1155</th>\n",
       "      <td>1694028385316</td>\n",
       "      <td>-0.459961</td>\n",
       "      <td>-0.817200</td>\n",
       "      <td>0.292175</td>\n",
       "      <td>1.546875</td>\n",
       "      <td>-2.015625</td>\n",
       "      <td>1.531250</td>\n",
       "      <td>1469</td>\n",
       "    </tr>\n",
       "  </tbody>\n",
       "</table>\n",
       "<p>1156 rows × 8 columns</p>\n",
       "</div>\n",
       "    <div class=\"colab-df-buttons\">\n",
       "\n",
       "  <div class=\"colab-df-container\">\n",
       "    <button class=\"colab-df-convert\" onclick=\"convertToInteractive('df-7eaaab37-5628-4375-8178-f6a2a29a3e72')\"\n",
       "            title=\"Convert this dataframe to an interactive table.\"\n",
       "            style=\"display:none;\">\n",
       "\n",
       "  <svg xmlns=\"http://www.w3.org/2000/svg\" height=\"24px\" viewBox=\"0 -960 960 960\">\n",
       "    <path d=\"M120-120v-720h720v720H120Zm60-500h600v-160H180v160Zm220 220h160v-160H400v160Zm0 220h160v-160H400v160ZM180-400h160v-160H180v160Zm440 0h160v-160H620v160ZM180-180h160v-160H180v160Zm440 0h160v-160H620v160Z\"/>\n",
       "  </svg>\n",
       "    </button>\n",
       "\n",
       "  <style>\n",
       "    .colab-df-container {\n",
       "      display:flex;\n",
       "      gap: 12px;\n",
       "    }\n",
       "\n",
       "    .colab-df-convert {\n",
       "      background-color: #E8F0FE;\n",
       "      border: none;\n",
       "      border-radius: 50%;\n",
       "      cursor: pointer;\n",
       "      display: none;\n",
       "      fill: #1967D2;\n",
       "      height: 32px;\n",
       "      padding: 0 0 0 0;\n",
       "      width: 32px;\n",
       "    }\n",
       "\n",
       "    .colab-df-convert:hover {\n",
       "      background-color: #E2EBFA;\n",
       "      box-shadow: 0px 1px 2px rgba(60, 64, 67, 0.3), 0px 1px 3px 1px rgba(60, 64, 67, 0.15);\n",
       "      fill: #174EA6;\n",
       "    }\n",
       "\n",
       "    .colab-df-buttons div {\n",
       "      margin-bottom: 4px;\n",
       "    }\n",
       "\n",
       "    [theme=dark] .colab-df-convert {\n",
       "      background-color: #3B4455;\n",
       "      fill: #D2E3FC;\n",
       "    }\n",
       "\n",
       "    [theme=dark] .colab-df-convert:hover {\n",
       "      background-color: #434B5C;\n",
       "      box-shadow: 0px 1px 3px 1px rgba(0, 0, 0, 0.15);\n",
       "      filter: drop-shadow(0px 1px 2px rgba(0, 0, 0, 0.3));\n",
       "      fill: #FFFFFF;\n",
       "    }\n",
       "  </style>\n",
       "\n",
       "    <script>\n",
       "      const buttonEl =\n",
       "        document.querySelector('#df-7eaaab37-5628-4375-8178-f6a2a29a3e72 button.colab-df-convert');\n",
       "      buttonEl.style.display =\n",
       "        google.colab.kernel.accessAllowed ? 'block' : 'none';\n",
       "\n",
       "      async function convertToInteractive(key) {\n",
       "        const element = document.querySelector('#df-7eaaab37-5628-4375-8178-f6a2a29a3e72');\n",
       "        const dataTable =\n",
       "          await google.colab.kernel.invokeFunction('convertToInteractive',\n",
       "                                                    [key], {});\n",
       "        if (!dataTable) return;\n",
       "\n",
       "        const docLinkHtml = 'Like what you see? Visit the ' +\n",
       "          '<a target=\"_blank\" href=https://colab.research.google.com/notebooks/data_table.ipynb>data table notebook</a>'\n",
       "          + ' to learn more about interactive tables.';\n",
       "        element.innerHTML = '';\n",
       "        dataTable['output_type'] = 'display_data';\n",
       "        await google.colab.output.renderOutput(dataTable, element);\n",
       "        const docLink = document.createElement('div');\n",
       "        docLink.innerHTML = docLinkHtml;\n",
       "        element.appendChild(docLink);\n",
       "      }\n",
       "    </script>\n",
       "  </div>\n",
       "\n",
       "\n",
       "<div id=\"df-3f9d5344-27f3-4d7b-9fee-b310b552761f\">\n",
       "  <button class=\"colab-df-quickchart\" onclick=\"quickchart('df-3f9d5344-27f3-4d7b-9fee-b310b552761f')\"\n",
       "            title=\"Suggest charts.\"\n",
       "            style=\"display:none;\">\n",
       "\n",
       "<svg xmlns=\"http://www.w3.org/2000/svg\" height=\"24px\"viewBox=\"0 0 24 24\"\n",
       "     width=\"24px\">\n",
       "    <g>\n",
       "        <path d=\"M19 3H5c-1.1 0-2 .9-2 2v14c0 1.1.9 2 2 2h14c1.1 0 2-.9 2-2V5c0-1.1-.9-2-2-2zM9 17H7v-7h2v7zm4 0h-2V7h2v10zm4 0h-2v-4h2v4z\"/>\n",
       "    </g>\n",
       "</svg>\n",
       "  </button>\n",
       "\n",
       "<style>\n",
       "  .colab-df-quickchart {\n",
       "      --bg-color: #E8F0FE;\n",
       "      --fill-color: #1967D2;\n",
       "      --hover-bg-color: #E2EBFA;\n",
       "      --hover-fill-color: #174EA6;\n",
       "      --disabled-fill-color: #AAA;\n",
       "      --disabled-bg-color: #DDD;\n",
       "  }\n",
       "\n",
       "  [theme=dark] .colab-df-quickchart {\n",
       "      --bg-color: #3B4455;\n",
       "      --fill-color: #D2E3FC;\n",
       "      --hover-bg-color: #434B5C;\n",
       "      --hover-fill-color: #FFFFFF;\n",
       "      --disabled-bg-color: #3B4455;\n",
       "      --disabled-fill-color: #666;\n",
       "  }\n",
       "\n",
       "  .colab-df-quickchart {\n",
       "    background-color: var(--bg-color);\n",
       "    border: none;\n",
       "    border-radius: 50%;\n",
       "    cursor: pointer;\n",
       "    display: none;\n",
       "    fill: var(--fill-color);\n",
       "    height: 32px;\n",
       "    padding: 0;\n",
       "    width: 32px;\n",
       "  }\n",
       "\n",
       "  .colab-df-quickchart:hover {\n",
       "    background-color: var(--hover-bg-color);\n",
       "    box-shadow: 0 1px 2px rgba(60, 64, 67, 0.3), 0 1px 3px 1px rgba(60, 64, 67, 0.15);\n",
       "    fill: var(--button-hover-fill-color);\n",
       "  }\n",
       "\n",
       "  .colab-df-quickchart-complete:disabled,\n",
       "  .colab-df-quickchart-complete:disabled:hover {\n",
       "    background-color: var(--disabled-bg-color);\n",
       "    fill: var(--disabled-fill-color);\n",
       "    box-shadow: none;\n",
       "  }\n",
       "\n",
       "  .colab-df-spinner {\n",
       "    border: 2px solid var(--fill-color);\n",
       "    border-color: transparent;\n",
       "    border-bottom-color: var(--fill-color);\n",
       "    animation:\n",
       "      spin 1s steps(1) infinite;\n",
       "  }\n",
       "\n",
       "  @keyframes spin {\n",
       "    0% {\n",
       "      border-color: transparent;\n",
       "      border-bottom-color: var(--fill-color);\n",
       "      border-left-color: var(--fill-color);\n",
       "    }\n",
       "    20% {\n",
       "      border-color: transparent;\n",
       "      border-left-color: var(--fill-color);\n",
       "      border-top-color: var(--fill-color);\n",
       "    }\n",
       "    30% {\n",
       "      border-color: transparent;\n",
       "      border-left-color: var(--fill-color);\n",
       "      border-top-color: var(--fill-color);\n",
       "      border-right-color: var(--fill-color);\n",
       "    }\n",
       "    40% {\n",
       "      border-color: transparent;\n",
       "      border-right-color: var(--fill-color);\n",
       "      border-top-color: var(--fill-color);\n",
       "    }\n",
       "    60% {\n",
       "      border-color: transparent;\n",
       "      border-right-color: var(--fill-color);\n",
       "    }\n",
       "    80% {\n",
       "      border-color: transparent;\n",
       "      border-right-color: var(--fill-color);\n",
       "      border-bottom-color: var(--fill-color);\n",
       "    }\n",
       "    90% {\n",
       "      border-color: transparent;\n",
       "      border-bottom-color: var(--fill-color);\n",
       "    }\n",
       "  }\n",
       "</style>\n",
       "\n",
       "  <script>\n",
       "    async function quickchart(key) {\n",
       "      const quickchartButtonEl =\n",
       "        document.querySelector('#' + key + ' button');\n",
       "      quickchartButtonEl.disabled = true;  // To prevent multiple clicks.\n",
       "      quickchartButtonEl.classList.add('colab-df-spinner');\n",
       "      try {\n",
       "        const charts = await google.colab.kernel.invokeFunction(\n",
       "            'suggestCharts', [key], {});\n",
       "      } catch (error) {\n",
       "        console.error('Error during call to suggestCharts:', error);\n",
       "      }\n",
       "      quickchartButtonEl.classList.remove('colab-df-spinner');\n",
       "      quickchartButtonEl.classList.add('colab-df-quickchart-complete');\n",
       "    }\n",
       "    (() => {\n",
       "      let quickchartButtonEl =\n",
       "        document.querySelector('#df-3f9d5344-27f3-4d7b-9fee-b310b552761f button');\n",
       "      quickchartButtonEl.style.display =\n",
       "        google.colab.kernel.accessAllowed ? 'block' : 'none';\n",
       "    })();\n",
       "  </script>\n",
       "</div>\n",
       "    </div>\n",
       "  </div>\n"
      ],
      "text/plain": [
       "          timestamp   accel_x   accel_y   accel_z    gyro_x    gyro_y  \\\n",
       "0     1694028327585 -0.488525 -0.880676  0.276794  0.015625 -0.468750   \n",
       "1     1694028327622 -0.489746 -0.872864  0.268494 -1.765625  0.656250   \n",
       "2     1694028327661 -0.491455 -0.867004  0.274109 -0.328125  0.312500   \n",
       "3     1694028327697 -0.482910 -0.870667  0.277527 -0.796875  2.281250   \n",
       "4     1694028327736 -0.498779 -0.882629  0.294617 -1.109375  3.437500   \n",
       "...             ...       ...       ...       ...       ...       ...   \n",
       "1151  1694028385147 -0.538574 -0.801331  0.325378  2.140625  9.359375   \n",
       "1152  1694028385185 -0.579834 -0.848938  0.332458  0.312500  8.359375   \n",
       "1153  1694028385241 -0.490479 -0.829895  0.326843 -0.734375  3.171875   \n",
       "1154  1694028385278 -0.498291 -0.856506  0.294128  2.109375  0.109375   \n",
       "1155  1694028385316 -0.459961 -0.817200  0.292175  1.546875 -2.015625   \n",
       "\n",
       "        gyro_z   ind  \n",
       "0     0.000000    16  \n",
       "1    -0.484375    17  \n",
       "2    -0.453125    18  \n",
       "3    -0.281250    19  \n",
       "4    -0.078125    20  \n",
       "...        ...   ...  \n",
       "1151 -0.078125  1465  \n",
       "1152  0.125000  1466  \n",
       "1153  1.250000  1467  \n",
       "1154 -0.890625  1468  \n",
       "1155  1.531250  1469  \n",
       "\n",
       "[1156 rows x 8 columns]"
      ]
     },
     "execution_count": 49,
     "metadata": {},
     "output_type": "execute_result"
    }
   ],
   "source": [
    "df_respeck"
   ]
  },
  {
   "cell_type": "code",
   "execution_count": null,
   "metadata": {
    "colab": {
     "base_uri": "https://localhost:8080/"
    },
    "id": "KLb-gE9TvPs1",
    "outputId": "f59b1fc1-6771-4c55-8599-90bfdf62b290"
   },
   "outputs": [
    {
     "data": {
      "text/plain": [
       "20.02390396840519"
      ]
     },
     "execution_count": 50,
     "metadata": {},
     "output_type": "execute_result"
    }
   ],
   "source": [
    "get_frequency(df_respeck)"
   ]
  },
  {
   "cell_type": "code",
   "execution_count": null,
   "metadata": {
    "id": "ks9fC-Owi-YY"
   },
   "outputs": [],
   "source": [
    "# Define the starting timestamp in milliseconds\n",
    "start_timestamp_ms = df_respeck.timestamp[0]\n",
    "\n",
    "# Define the number of timestamps you want to generate\n",
    "num_timestamps = len(df_respeck)\n",
    "\n",
    "# Calculate the time interval between timestamps in microseconds\n",
    "microseconds_per_timestamp = int(1e6 / 25)\n",
    "\n",
    "# Initialize a list to store the generated timestamps\n",
    "timestamps = []\n",
    "\n",
    "# Generate the timestamps\n",
    "for i in range(num_timestamps):\n",
    "    timestamp = start_timestamp_ms + i * microseconds_per_timestamp // 1000  # Convert microseconds to milliseconds\n",
    "    timestamps.append(timestamp)\n",
    "\n",
    "# Print the generated timestamps\n",
    "# for timestamp in timestamps:\n",
    "#    formatted_time = datetime.datetime.fromtimestamp(timestamp / 1000).strftime('%Y-%m-%d %H:%M:%S.%f')\n",
    "#    print(timestamp, formatted_time[:-3])  # Print the timestamp with milliseconds\n",
    "\n",
    "df_respeck['timestamp'] = timestamps"
   ]
  },
  {
   "cell_type": "code",
   "execution_count": null,
   "metadata": {
    "colab": {
     "base_uri": "https://localhost:8080/"
    },
    "id": "brr94Po9jpYf",
    "outputId": "08f770e3-ad25-46dd-de0e-da7fd30b58b2"
   },
   "outputs": [
    {
     "data": {
      "text/plain": [
       "25.02164502164502"
      ]
     },
     "execution_count": 52,
     "metadata": {},
     "output_type": "execute_result"
    }
   ],
   "source": [
    "get_frequency(df_respeck)"
   ]
  },
  {
   "cell_type": "markdown",
   "metadata": {
    "id": "NsEK3sAUvIjd"
   },
   "source": [
    "# Trimming data to 30s"
   ]
  },
  {
   "cell_type": "code",
   "execution_count": null,
   "metadata": {
    "colab": {
     "background_save": true,
     "base_uri": "https://localhost:8080/"
    },
    "id": "UB8cPbe7j0JZ",
    "outputId": "da76a643-d590-4b08-eefa-f4ec070c4647"
   },
   "outputs": [
    {
     "data": {
      "text/plain": [
       "46.2"
      ]
     },
     "execution_count": 53,
     "metadata": {},
     "output_type": "execute_result"
    }
   ],
   "source": [
    "get_recording_length(df_respeck)"
   ]
  },
  {
   "cell_type": "code",
   "execution_count": null,
   "metadata": {
    "colab": {
     "background_save": true,
     "base_uri": "https://localhost:8080/"
    },
    "id": "7ovlLVNAvPQl",
    "outputId": "25f90b75-32ee-444b-cc0b-22b34c9482d7"
   },
   "outputs": [
    {
     "data": {
      "text/plain": [
       "30.360000000000003"
      ]
     },
     "execution_count": 54,
     "metadata": {},
     "output_type": "execute_result"
    }
   ],
   "source": [
    "get_recording_length(df_respeck[:760])"
   ]
  },
  {
   "cell_type": "code",
   "execution_count": null,
   "metadata": {
    "colab": {
     "background_save": true
    },
    "id": "v6mbXwHaiULv"
   },
   "outputs": [],
   "source": [
    "df_respeck = df_respeck[:760]"
   ]
  },
  {
   "cell_type": "code",
   "execution_count": null,
   "metadata": {
    "colab": {
     "background_save": true,
     "base_uri": "https://localhost:8080/",
     "height": 702
    },
    "id": "Km3bp4cnkAzI",
    "outputId": "29413357-70de-4c2d-a4a1-90df564138e9"
   },
   "outputs": [
    {
     "output_type": "stream",
     "text": [
      "\u001b[1;30;43mThis cell output is too large and can only be displayed while logged in.\u001b[0m\n"
     ]
    }
   ],
   "source": [
    "plot_data(df_respeck, \"Respeck sitting and hyperventilating - accelerometer and gyroscope data\")"
   ]
  }
 ],
 "metadata": {
  "colab": {
   "provenance": []
  },
  "kernelspec": {
   "display_name": "Python 3 (ipykernel)",
   "language": "python",
   "name": "python3"
  },
  "language_info": {
   "codemirror_mode": {
    "name": "ipython",
    "version": 3
   },
   "file_extension": ".py",
   "mimetype": "text/x-python",
   "name": "python",
   "nbconvert_exporter": "python",
   "pygments_lexer": "ipython3",
   "version": "3.7.16"
  }
 },
 "nbformat": 4,
 "nbformat_minor": 1
}
